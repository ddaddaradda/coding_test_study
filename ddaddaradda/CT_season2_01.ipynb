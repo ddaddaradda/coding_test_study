{
  "nbformat": 4,
  "nbformat_minor": 0,
  "metadata": {
    "colab": {
      "name": "CT_season2_01.ipynb",
      "provenance": [],
      "toc_visible": true
    },
    "kernelspec": {
      "name": "python3",
      "display_name": "Python 3"
    },
    "language_info": {
      "name": "python"
    }
  },
  "cells": [
    {
      "cell_type": "markdown",
      "source": [
        "# 수학\n",
        "-https://www.acmicpc.net/workbook/view/9370"
      ],
      "metadata": {
        "id": "DJ51OOrb9ibf"
      }
    },
    {
      "cell_type": "markdown",
      "source": [
        "## 10430번 나머지"
      ],
      "metadata": {
        "id": "21EzHt-o9q6r"
      }
    },
    {
      "cell_type": "code",
      "execution_count": null,
      "metadata": {
        "id": "YRQZqahU9b_K"
      },
      "outputs": [],
      "source": [
        "A,B,C = map(int,input().split())\n",
        "print((A+B)%C)\n",
        "print(((A%C)+(B%C))%C)\n",
        "print((A*B)%C)\n",
        "print(((A%C)*(B%C))%C)"
      ]
    },
    {
      "cell_type": "markdown",
      "source": [
        "## 4375번 1"
      ],
      "metadata": {
        "id": "Dn1zV5ms-1BI"
      }
    },
    {
      "cell_type": "code",
      "source": [
        "while True:\n",
        "  try : \n",
        "      n=int(input())\n",
        "  except EOFError:\n",
        "      break\n",
        "  a,b='1',1\n",
        "  while int(a*b)%n!=0:\n",
        "    b+=1\n",
        "  print(b)"
      ],
      "metadata": {
        "id": "umVZxx_H-1Tr"
      },
      "execution_count": null,
      "outputs": []
    },
    {
      "cell_type": "markdown",
      "source": [
        "## 1037번 약수"
      ],
      "metadata": {
        "id": "UDimH3QJCYnp"
      }
    },
    {
      "cell_type": "code",
      "source": [
        "n = int(input())\n",
        "arr=list(map(int,input()))\n",
        "arr.sort()\n",
        "print(arr[0]*arr[-1])"
      ],
      "metadata": {
        "id": "VcfGDV6jCY6A"
      },
      "execution_count": null,
      "outputs": []
    },
    {
      "cell_type": "markdown",
      "source": [
        "## 17427번 약수의 합 2"
      ],
      "metadata": {
        "id": "IHYn15_jDd_u"
      }
    },
    {
      "cell_type": "markdown",
      "source": [
        "### 시간초과"
      ],
      "metadata": {
        "id": "VFyJBmqzJrS5"
      }
    },
    {
      "cell_type": "code",
      "source": [
        "n = int(input())\n",
        "ans=0\n",
        "for i in range(1,n+1):\n",
        "    for j in range(1,int(i**0.5)+1):\n",
        "        if i%j==0: \n",
        "            m = i/j\n",
        "            if m==j:\n",
        "                 ans+=j\n",
        "            else:\n",
        "                ans+=(j+m)\n",
        "print(int(ans))"
      ],
      "metadata": {
        "colab": {
          "base_uri": "https://localhost:8080/"
        },
        "id": "OB8fnVT-Evkn",
        "outputId": "ec332d0e-9eab-4ddd-ba6a-b134430ee0ad"
      },
      "execution_count": null,
      "outputs": [
        {
          "output_type": "stream",
          "name": "stdout",
          "text": [
            "70\n",
            "4065\n"
          ]
        }
      ]
    },
    {
      "cell_type": "markdown",
      "source": [
        "### f(x)구하지 말고"
      ],
      "metadata": {
        "id": "dw6Bs7MsNn08"
      }
    },
    {
      "cell_type": "code",
      "source": [
        "n = int(input())\n",
        "sum=0\n",
        "for i in range(1,n+1):\n",
        "    sum += (n//i)*i\n",
        "print(sum)"
      ],
      "metadata": {
        "colab": {
          "base_uri": "https://localhost:8080/"
        },
        "id": "aTH8UlFoF4Q_",
        "outputId": "77d04eea-deee-4d88-9e26-26c41712912e"
      },
      "execution_count": null,
      "outputs": [
        {
          "output_type": "stream",
          "name": "stdout",
          "text": [
            "3\n",
            "8\n"
          ]
        }
      ]
    },
    {
      "cell_type": "markdown",
      "source": [
        "## 17425번 약수의 합"
      ],
      "metadata": {
        "id": "7PvFtwtrN4F1"
      }
    },
    {
      "cell_type": "markdown",
      "source": [
        "### 시간 초과"
      ],
      "metadata": {
        "id": "q6-XNsf9Phst"
      }
    },
    {
      "cell_type": "code",
      "source": [
        "for _ in range(int(input())):\n",
        "    sum = 0\n",
        "    n = int(input())\n",
        "    for i in range(1,n+1):\n",
        "        sum += (n//i)*i\n",
        "    print(sum)"
      ],
      "metadata": {
        "colab": {
          "base_uri": "https://localhost:8080/"
        },
        "id": "AWPYmqr5F8Ny",
        "outputId": "73869f34-e917-43b3-a454-e70428e1d03b"
      },
      "execution_count": null,
      "outputs": [
        {
          "output_type": "execute_result",
          "data": {
            "text/plain": [
              "87"
            ]
          },
          "metadata": {},
          "execution_count": 21
        }
      ]
    },
    {
      "cell_type": "code",
      "source": [
        "# 1 1\n",
        "# 2 1 2\n",
        "# 3 1 3 \n",
        "# 4 1 2 4\n",
        "# 5 1 5\n",
        "# 6 1 2 3 6\n",
        "# 7 1 7\n",
        "# 8 1 2 4 8\n",
        "# 9 1 3 9\n",
        "# 10 1 2 5 10\n",
        "M=1000001\n",
        "D=[1]*1000001\n",
        "for i in range (2,M):\n",
        "    j=1\n",
        "    while i*j<=M-1:\n",
        "        D[i*j] += i\n",
        "        j +=1\n",
        "S=[0]*M\n",
        "for i in range (1,M):\n",
        "    S[i] = S[i-1] + D[i]\n",
        "\n",
        "for _ in range(int(input())):\n",
        "    n=int(input())\n",
        "    print(S[n])"
      ],
      "metadata": {
        "id": "IX4Wb6RYpc5I"
      },
      "execution_count": null,
      "outputs": []
    },
    {
      "cell_type": "code",
      "source": [
        "import sys\n",
        "\n",
        "M=1000001\n",
        "D=[1]*1000001\n",
        "for i in range (2,M):\n",
        "    j=1\n",
        "    while i*j<=M-1:\n",
        "        D[i*j] += i\n",
        "        j +=1\n",
        "S=[0]*M\n",
        "for i in range (1,M):\n",
        "    S[i] = S[i-1] + D[i]\n",
        "\n",
        "for _ in range(int(input())):\n",
        "    n=int(input())\n",
        "    print(S[n])\n",
        "\n",
        "n = int(input())\n",
        "for _ in range(n):\n",
        "    a = int(sys.stdin.readline())\n",
        "    sys.stdout.write(str(S[a])+\"\\n\")"
      ],
      "metadata": {
        "id": "qw781BE8pypc"
      },
      "execution_count": null,
      "outputs": []
    },
    {
      "cell_type": "markdown",
      "source": [
        "## 2609번 최대공약수와 최소공배수"
      ],
      "metadata": {
        "id": "ZvCB6uN4w6iX"
      }
    },
    {
      "cell_type": "code",
      "source": [
        "A,B = map(int,input().split())\n",
        "for i in range(A,0,-1):\n",
        "    if A%i==0 and B%i==0:\n",
        "         gcd = i\n",
        "         break\n",
        "print(gcd)\n",
        "print(int(A*B/gcd))"
      ],
      "metadata": {
        "colab": {
          "base_uri": "https://localhost:8080/"
        },
        "id": "mtBSby-XqHaE",
        "outputId": "15f1eb16-1b0e-4e99-b527-c5cab9b29aab"
      },
      "execution_count": null,
      "outputs": [
        {
          "output_type": "stream",
          "name": "stdout",
          "text": [
            "4 2\n",
            "2\n",
            "4\n"
          ]
        }
      ]
    },
    {
      "cell_type": "markdown",
      "source": [
        "## 1978번 소수 찾기"
      ],
      "metadata": {
        "id": "7qKqe1D0yx7U"
      }
    },
    {
      "cell_type": "code",
      "source": [
        "n=int(input())\n",
        "arr=list(map(int,input().split()))\n",
        "count=0\n",
        "\n",
        "for i in range(n):\n",
        "    check=True\n",
        "    if arr[i]==1:\n",
        "        check=False\n",
        "    \n",
        "    for j in range(2,arr[i]):\n",
        "        if arr[i]%j==0:\n",
        "            check= False\n",
        "            break\n",
        "    if check ==True:\n",
        "        count+=1\n",
        "\n",
        "print(count)"
      ],
      "metadata": {
        "id": "cV2TDmGuxSkq"
      },
      "execution_count": null,
      "outputs": []
    },
    {
      "cell_type": "markdown",
      "source": [
        "## 1929번 소수 구하기"
      ],
      "metadata": {
        "id": "JrHQErXbzstB"
      }
    },
    {
      "cell_type": "code",
      "source": [
        "n,m=map(int,input().split())\n",
        "for i in range(n,m+1):\n",
        "        if i==1: continue\n",
        "        elif i ==2:\n",
        "            print(i)\n",
        "        else:\n",
        "            for j in range(2,int(i**0.5)+1):\n",
        "                if i%j==0 :\n",
        "                    break\n",
        "            else :\n",
        "                print(i)"
      ],
      "metadata": {
        "colab": {
          "base_uri": "https://localhost:8080/"
        },
        "id": "Ku1gNChbx_O5",
        "outputId": "19d6aafe-dc6e-4fe0-e7df-2d888fb066db"
      },
      "execution_count": null,
      "outputs": [
        {
          "output_type": "stream",
          "name": "stdout",
          "text": [
            "2 50\n",
            "2\n",
            "3\n",
            "5\n",
            "7\n",
            "11\n",
            "13\n",
            "17\n",
            "19\n",
            "23\n",
            "29\n",
            "31\n",
            "37\n",
            "41\n",
            "43\n",
            "47\n"
          ]
        }
      ]
    },
    {
      "cell_type": "markdown",
      "source": [
        "## 6588번 골드바흐의 추측"
      ],
      "metadata": {
        "id": "K83ZmBJGzhOG"
      }
    },
    {
      "cell_type": "code",
      "source": [
        "import sys\n",
        "M = 1000000\n",
        "check_arr = [True] * (M+1)\n",
        "for i in range(2,int(M**0.5)+1):\n",
        "    for j in range(2*i,M+1,i):\n",
        "        if check_arr[i] == True:\n",
        "            if check_arr[j] == True:\n",
        "                check_arr[j] = False\n",
        "while True:\n",
        "    n = int(sys.std.readline.input())\n",
        "    if n == 0: break\n",
        "    else:\n",
        "        for i in range(2,n):\n",
        "            if check_arr[i] == True and check_arr[n-i] == True:\n",
        "                print('%d = %d + %d' %(n,i,n-i))\n",
        "                break\n"
      ],
      "metadata": {
        "colab": {
          "base_uri": "https://localhost:8080/"
        },
        "id": "2pF0kBGTC4uR",
        "outputId": "c9f912b0-54c7-4329-b1c0-971f98060465"
      },
      "execution_count": null,
      "outputs": [
        {
          "name": "stdout",
          "output_type": "stream",
          "text": [
            "0\n"
          ]
        }
      ]
    },
    {
      "cell_type": "code",
      "source": [
        "r= 1000000\n",
        "\n",
        "check = [True for _ in range(r)]\n",
        "\n",
        "for i in range(2,int(r**0.6)):\n",
        "    if check[i]==True:\n",
        "        for j in range(i*2, r, i) : \n",
        "            if check[j] == True :\n",
        "                check[j] = False            #에라토스테네스의 체\n",
        "\n",
        "while(True):                               #입력받은 수가 에라토스테네스의 체에 속하는지, 즉 소수인지\n",
        "    n = int(input())\n",
        "\n",
        "    if n==0 : break\n",
        "    for i in range(3,r):\n",
        "        if check[i] == True:\n",
        "            if check[n-i] == True :\n",
        "                print(\"%d = %d + %d\"%(n , i , n-i))\n",
        "                break"
      ],
      "metadata": {
        "id": "uVF6Eu7OE_64"
      },
      "execution_count": null,
      "outputs": []
    },
    {
      "cell_type": "markdown",
      "source": [
        "# 부르트 포스\n",
        "https://www.acmicpc.net/workbook/view/9371"
      ],
      "metadata": {
        "id": "booszDDwGKId"
      }
    },
    {
      "cell_type": "markdown",
      "source": [
        "## 2309번 일곱 난장이"
      ],
      "metadata": {
        "id": "jE_RK-TUGWZX"
      }
    },
    {
      "cell_type": "code",
      "source": [
        "arr = [int(input()) for _ in range(9)]\n",
        "\n",
        "for i in range(9):\n",
        "  for j in range(i+1,9):\n",
        "    if sum(arr) - arr[i] - arr[j] == 100 :\n",
        "      one,two = arr[i],arr[j]\n",
        "      break\n",
        "arr.remove(one),arr.remove(two)\n",
        "arr.sort()\n",
        "for i in range(7):\n",
        "  print(arr[i])"
      ],
      "metadata": {
        "id": "MXdrxiEUC7Ye"
      },
      "execution_count": null,
      "outputs": []
    },
    {
      "cell_type": "markdown",
      "source": [
        "## 3085번 사탕게임"
      ],
      "metadata": {
        "id": "eXY4sBDuNzn0"
      }
    },
    {
      "cell_type": "code",
      "source": [
        "arr = []\n",
        "n = int(input())\n",
        "max_num = 0\n",
        "for _ in range(n):\n",
        "  arr.append(list(map(str,input())))\n",
        "\n",
        "def width_max():\n",
        "  global max_num, n\n",
        "  for i in range(n):\n",
        "    row_max = 1\n",
        "    for j in range(n-1):\n",
        "      if arr[i][j]==arr[i][j+1]:\n",
        "        row_max +=1\n",
        "        max_num = max(max_num,row_max)\n",
        "      else : row_max = 1\n",
        "\n",
        "def height_max():\n",
        "  global max_num, n\n",
        "  for i in range(n):\n",
        "    column_max = 1\n",
        "    for j in range(n-1):\n",
        "      if arr[j][i]==arr[j+1][i]:\n",
        "        column_max +=1\n",
        "        max_num = max(max_num,column_max)\n",
        "      else: column_max = 1\n",
        "\n",
        "for i in range(n):\n",
        "  for j in range(n-1):\n",
        "    if arr[i][j] != arr[i][j+1]:\n",
        "      arr[i][j],arr[i][j+1] = arr[i][j+1],arr[i][j]\n",
        "      height_max()\n",
        "      width_max()\n",
        "      arr[i][j+1],arr[i][j] = arr[i][j],arr[i][j+1] \n",
        "\n",
        "    if arr[j][i] != arr[j+1][i]:\n",
        "      arr[j][i],arr[j+1][i] = arr[j+1][i],arr[j][i]\n",
        "      height_max()\n",
        "      width_max()\n",
        "      arr[j+1][i],arr[j][i] = arr[j][i],arr[j+1][i] \n",
        "\n",
        "print(max_num)"
      ],
      "metadata": {
        "id": "5BMT3vMEGM9S",
        "colab": {
          "base_uri": "https://localhost:8080/"
        },
        "outputId": "10828384-5504-4ccf-dfef-3e1897e09989"
      },
      "execution_count": null,
      "outputs": [
        {
          "output_type": "execute_result",
          "data": {
            "text/plain": [
              "6"
            ]
          },
          "metadata": {},
          "execution_count": 3
        }
      ]
    },
    {
      "cell_type": "markdown",
      "source": [
        "## 1479번 날짜 계산"
      ],
      "metadata": {
        "id": "Y4T2CuFuSGfi"
      }
    },
    {
      "cell_type": "code",
      "source": [
        "E, S, M = map(int,input().split())\n",
        "\n",
        "n = 1\n",
        "while True:\n",
        "  if ((n-E)%15 == 0)and((n-S)%28 == 0) and((n-M)%19 == 0):\n",
        "    print(n)\n",
        "    break\n",
        "  else : n +=1"
      ],
      "metadata": {
        "id": "HgGrZo6RSG9X"
      },
      "execution_count": null,
      "outputs": []
    },
    {
      "cell_type": "markdown",
      "source": [
        "## 1107번 리모컨"
      ],
      "metadata": {
        "id": "jOeYJ32fSKYu"
      }
    },
    {
      "cell_type": "code",
      "source": [
        "target = int(input())\n",
        "n = int(input())\n",
        "b_num = list(map(int,input().split()))\n",
        "\n",
        "min_num = abs(100-target)\n",
        "for i in range(1000001):\n",
        "  num = str(i)\n",
        "  for j in range(len(num)):\n",
        "    if int(num[j]) in b_num:\n",
        "      break\n",
        "    elif j == (len(num)-1):\n",
        "      min_num=min(min_num,abs(int(num)-target)+len(num))\n",
        "print(min_num)\n"
      ],
      "metadata": {
        "colab": {
          "base_uri": "https://localhost:8080/"
        },
        "id": "ssieSL6wSK1X",
        "outputId": "b6637f76-5331-42d8-8cdd-7e474f57af5b"
      },
      "execution_count": null,
      "outputs": [
        {
          "output_type": "execute_result",
          "data": {
            "text/plain": [
              "[1, 4, 5, 6, 7, 8, 9, 0]"
            ]
          },
          "metadata": {},
          "execution_count": 3
        }
      ]
    },
    {
      "cell_type": "code",
      "source": [
        "import sys\n",
        "input = sys.stdin.readline\n",
        "target = int(input())\n",
        "n = int(input())\n",
        "broken = list(map(int, input().split()))\n",
        "\n",
        "\n",
        "min_count = abs(100 - target)\n",
        "\n",
        "for nums in range(1000001):\n",
        "    nums = str(nums)\n",
        "    \n",
        "    for j in range(len(nums)):\n",
        "        # 각 숫자가 고장났는지 확인 후, 고장 났으면 break\n",
        "        if int(nums[j]) in broken:\n",
        "            break\n",
        "\n",
        "        # 고장난 숫자 없이 마지막 자리까지 왔다면 min_count 비교 후 업데이트\n",
        "        elif j == len(nums) - 1:\n",
        "            min_count = min(min_count, abs(int(nums) - target) + len(nums))\n",
        "\n",
        "print(min_count)"
      ],
      "metadata": {
        "id": "RMnBRXAJOaPZ"
      },
      "execution_count": null,
      "outputs": []
    },
    {
      "cell_type": "markdown",
      "source": [
        "## 14500번 테트로미노"
      ],
      "metadata": {
        "id": "-shsmn88jyc-"
      }
    },
    {
      "cell_type": "code",
      "source": [
        "N,M =map(int,input().split())\n",
        "arr=[list(map(int,input().split())) for _ in range(N)]\n",
        "max_num=0\n",
        "\n",
        "def bar1(arr):\n",
        "  global max_num\n",
        "  bar1_max = 0\n",
        "  for i in range(N):\n",
        "    for j in range(M-3):\n",
        "      bar1_max=arr[i][j]+arr[i][j+1]+arr[i][j+2]+arr[i][j+3]\n",
        "      max_num=max(max_num,bar1_max)\n",
        "\n",
        "def bar2(arr):\n",
        "  global max_num\n",
        "  bar2_max = 0\n",
        "  for i in range(N-3):\n",
        "    for j in range(M):\n",
        "      bar2_max=arr[i][j]+arr[i+1][j]+arr[i+2][j]+arr[i+3][j]\n",
        "      max_num=max(max_num,bar2_max)\n",
        "\n",
        "def square(arr):\n",
        "  global max_num\n",
        "  square_max = 0\n",
        "  for i in range(N-1):\n",
        "    for j in range(M-1):\n",
        "      square_max = arr[i][j]+arr[i+1][j]+arr[i][j+1]+arr[i+1][j+1]\n",
        "      max_num=max(max_num,square_max)\n",
        "\n",
        "def T1(arr):\n",
        "  global max_num\n",
        "  T1_max = 0\n",
        "  for i in range(N-1):\n",
        "    for j in range(M-2):\n",
        "      T1_max = arr[i][j]+arr[i][j+1]+arr[i][j+2]+arr[i+1][j+1]\n",
        "      max_num=max(max_num,T1_max)\n",
        "\n",
        "def T2(arr):\n",
        "  global max_num\n",
        "  T2_max = 0\n",
        "  for i in range(N-1):\n",
        "    for j in range(M-2):\n",
        "      T2_max = arr[i+1][j]+arr[i+1][j+1]+arr[i+1][j+2]+arr[i][j+1]\n",
        "      max_num=max(max_num,T2_max)\n",
        "\n",
        "def T3(arr):\n",
        "  global max_num\n",
        "  T3_max = 0\n",
        "  for i in range(N-2):\n",
        "    for j in range(M-1):\n",
        "      T3_max = arr[i][j]+arr[i+1][j]+arr[i+2][j]+arr[i+1][j+1]\n",
        "      max_num=max(max_num,T3_max)\n",
        "\n",
        "def T4(arr):\n",
        "  global max_num\n",
        "  T4_max = 0\n",
        "  for i in range(N-2):\n",
        "    for j in range(M-1):\n",
        "      T4_max = arr[i+1][j]+arr[i][j+1]+arr[i+1][j+1]+arr[i+2][j+1]\n",
        "      max_num=max(max_num,T4_max)\n",
        "\n",
        "def L1(arr): #L모양\n",
        "  global max_num\n",
        "  L1_max = 0\n",
        "  for i in range(N-2):\n",
        "    for j in range(M-1):\n",
        "      L1_max = arr[i][j]+arr[i+1][j]+arr[i+2][j]+arr[i+2][j+1]\n",
        "      max_num=max(max_num,L1_max)\n",
        "\n",
        "def L2(arr): #L모양 시계 방향 90도 회전\n",
        "  global max_num\n",
        "  L2_max = 0\n",
        "  for i in range(N-1):\n",
        "    for j in range(M-2):\n",
        "      L2_max = arr[i+1][j]+arr[i][j]+arr[i][j+1]+arr[i][j+2]\n",
        "      max_num=max(max_num,L2_max)\n",
        "\n",
        "def L3(arr): #L모양 180도 회전\n",
        "  global max_num\n",
        "  L3_max = 0\n",
        "  for i in range(N-2):\n",
        "    for j in range(M-1):\n",
        "      L3_max = arr[i][j]+arr[i][j+1]+arr[i+1][j+1]+arr[i+2][j+1]\n",
        "      max_num=max(max_num,L3_max)\n",
        "\n",
        "def L4(arr): #L모양 반시계 방향 90도 회전\n",
        "  global max_num\n",
        "  L4_max = 0\n",
        "  for i in range(N-1):\n",
        "    for j in range(M-2):\n",
        "      L4_max = arr[i+1][j]+arr[i+1][j+1]+arr[i+1][j+2]+arr[i][j+2]\n",
        "      max_num=max(max_num,L4_max)\n",
        "\n",
        "def dL1(arr): #L모양 좌우 대칭\n",
        "  global max_num\n",
        "  dL1_max = 0\n",
        "  for i in range(N-2):\n",
        "    for j in range(M-1):\n",
        "      dL1_max = arr[i][j+1]+arr[i+1][j+1]+arr[i+2][j+1]+arr[i+2][j]\n",
        "      max_num=max(max_num,dL1_max)\n",
        "\n",
        "def dL2(arr): #L모양 좌우 대칭 90도 회전\n",
        "  global max_num\n",
        "  dL2_max = 0\n",
        "  for i in range(N-1):\n",
        "    for j in range(M-2):\n",
        "      dL2_max = arr[i][j]+arr[i+1][j]+arr[i+1][j+1]+arr[i+1][j+2]\n",
        "      max_num=max(max_num,dL2_max)\n",
        "\n",
        "def dL3(arr): #L모양 좌우 대칭 180도 회전\n",
        "  global max_num\n",
        "  dL3_max = 0\n",
        "  for i in range(N-2):\n",
        "    for j in range(M-1):\n",
        "      dL3_max = arr[i][j+1]+arr[i][j]+arr[i+1][j]+arr[i+2][j]\n",
        "      max_num=max(max_num,dL3_max)\n",
        "\n",
        "def dL4(arr): #L모양 좌우 대칭 1반시계 90도 회전\n",
        "  global max_num\n",
        "  dL4_max =0\n",
        "  for i in range(N-1):\n",
        "    for j in range(M-2):\n",
        "      dL4_max = arr[i][j]+arr[i][j+1]+arr[i][j+2]+arr[i+1][j+2]\n",
        "      max_num=max(max_num,dL4_max)\n",
        "\n",
        "def zig1(arr):\n",
        "  global max_num\n",
        "  zig1_max = 0\n",
        "  for i in range(N-2):\n",
        "    for j in range(M-1):\n",
        "      zig1_max = arr[i][j]+arr[i+1][j]+arr[i+1][j+1]+arr[i+2][j+1]\n",
        "      max_num=max(max_num,zig1_max)\n",
        "\n",
        "def zig2(arr): # zig1 90도 회전\n",
        "  global max_num\n",
        "  zig2_max = 0\n",
        "  for i in range(N-1):\n",
        "    for j in range(M-2):\n",
        "      zig2_max = arr[i+1][j]+arr[i+1][j+1]+arr[i][j+1]+arr[i][j+2]\n",
        "      max_num=max(max_num,zig2_max)\n",
        "\n",
        "def dzig1(arr): #zig1 좌우대칭\n",
        "  global max_num\n",
        "  dzig1_max = 0\n",
        "  for i in range(N-2):\n",
        "    for j in range(M-1):\n",
        "      dzig1_max = arr[i][j+1]+arr[i+1][j+1]+arr[i+1][j]+arr[i+2][j]\n",
        "      max_num=max(max_num,dzig1_max)\n",
        "\n",
        "def dzig2(arr): # dzig1 90도 회전\n",
        "  global max_num\n",
        "  dzig2_max = 0\n",
        "  for i in range(N-1):\n",
        "    for j in range(M-2):\n",
        "      dzig2_max = arr[i][j]+arr[i][j+1]+arr[i+1][j+1]+arr[i+1][j+2]\n",
        "      max_num=max(max_num,dzig2_max)\n",
        "\n",
        "\n",
        "bar1(arr)\n",
        "bar2(arr)\n",
        "square(arr)\n",
        "T1(arr)\n",
        "T2(arr)\n",
        "T3(arr)\n",
        "T4(arr)\n",
        "L1(arr)\n",
        "L2(arr)\n",
        "L3(arr)\n",
        "L4(arr)\n",
        "dL1(arr)\n",
        "dL2(arr)\n",
        "dL3(arr)\n",
        "dL4(arr)\n",
        "zig1(arr)\n",
        "zig2(arr)\n",
        "dzig1(arr)\n",
        "dzig2(arr)\n",
        "print(max_num)"
      ],
      "metadata": {
        "colab": {
          "base_uri": "https://localhost:8080/",
          "height": 226
        },
        "id": "gSTfsKuqj16f",
        "outputId": "9da10afd-2073-4e39-fc64-5f50dc97edca"
      },
      "execution_count": null,
      "outputs": [
        {
          "name": "stdout",
          "output_type": "stream",
          "text": [
            "5 5\n"
          ]
        },
        {
          "output_type": "error",
          "ename": "ValueError",
          "evalue": "ignored",
          "traceback": [
            "\u001b[0;31m---------------------------------------------------------------------------\u001b[0m",
            "\u001b[0;31mValueError\u001b[0m                                Traceback (most recent call last)",
            "\u001b[0;32m<ipython-input-4-a8cb9bdbb971>\u001b[0m in \u001b[0;36m<module>\u001b[0;34m()\u001b[0m\n\u001b[0;32m----> 1\u001b[0;31m \u001b[0mN\u001b[0m\u001b[0;34m,\u001b[0m\u001b[0mM\u001b[0m \u001b[0;34m=\u001b[0m\u001b[0mmap\u001b[0m\u001b[0;34m(\u001b[0m\u001b[0mint\u001b[0m\u001b[0;34m,\u001b[0m\u001b[0minput\u001b[0m\u001b[0;34m(\u001b[0m\u001b[0;34m)\u001b[0m\u001b[0;34m)\u001b[0m\u001b[0;34m\u001b[0m\u001b[0;34m\u001b[0m\u001b[0m\n\u001b[0m\u001b[1;32m      2\u001b[0m \u001b[0marr\u001b[0m\u001b[0;34m=\u001b[0m\u001b[0;34m[\u001b[0m\u001b[0mlist\u001b[0m\u001b[0;34m(\u001b[0m\u001b[0mmap\u001b[0m\u001b[0;34m(\u001b[0m\u001b[0mint\u001b[0m\u001b[0;34m,\u001b[0m\u001b[0minput\u001b[0m\u001b[0;34m(\u001b[0m\u001b[0;34m)\u001b[0m\u001b[0;34m.\u001b[0m\u001b[0msplit\u001b[0m\u001b[0;34m(\u001b[0m\u001b[0;34m)\u001b[0m\u001b[0;34m)\u001b[0m\u001b[0;34m)\u001b[0m \u001b[0;32mfor\u001b[0m \u001b[0m_\u001b[0m \u001b[0;32min\u001b[0m \u001b[0mrange\u001b[0m\u001b[0;34m(\u001b[0m\u001b[0mN\u001b[0m\u001b[0;34m)\u001b[0m\u001b[0;34m]\u001b[0m\u001b[0;34m\u001b[0m\u001b[0;34m\u001b[0m\u001b[0m\n\u001b[1;32m      3\u001b[0m \u001b[0mprint\u001b[0m\u001b[0;34m(\u001b[0m\u001b[0marr\u001b[0m\u001b[0;34m)\u001b[0m\u001b[0;34m\u001b[0m\u001b[0;34m\u001b[0m\u001b[0m\n",
            "\u001b[0;31mValueError\u001b[0m: invalid literal for int() with base 10: ' '"
          ]
        }
      ]
    },
    {
      "cell_type": "code",
      "source": [
        ""
      ],
      "metadata": {
        "colab": {
          "base_uri": "https://localhost:8080/"
        },
        "id": "t86Alc8Yj2aM",
        "outputId": "800c259e-8530-4be3-aa5c-dddc3fa34a90"
      },
      "execution_count": null,
      "outputs": [
        {
          "output_type": "stream",
          "name": "stdout",
          "text": [
            "0\n",
            "1\n",
            "2\n"
          ]
        }
      ]
    },
    {
      "cell_type": "code",
      "source": [
        ""
      ],
      "metadata": {
        "id": "frOrKLMvmxBL"
      },
      "execution_count": null,
      "outputs": []
    }
  ]
}